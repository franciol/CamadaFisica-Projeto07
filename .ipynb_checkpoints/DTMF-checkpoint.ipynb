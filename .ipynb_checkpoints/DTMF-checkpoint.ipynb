{
 "cells": [
  {
   "cell_type": "code",
   "execution_count": 4,
   "metadata": {},
   "outputs": [],
   "source": [
    "import numpy as np\n",
    "import sounddevice as sd\n",
    "import signalTeste as st\n",
    "import argparse\n",
    "import queue\n",
    "import sys\n",
    "from matplotlib.animation import FuncAnimation\n",
    "import matplotlib.pyplot as plt\n",
    "import numpy as np\n",
    "import sounddevice as sd"
   ]
  },
  {
   "cell_type": "code",
   "execution_count": 5,
   "metadata": {},
   "outputs": [],
   "source": [
    "teste = st.signalMeu()\n",
    "time = 1\n",
    "fs = 44100\n",
    "sd.default.samplerate = fs"
   ]
  },
  {
   "cell_type": "code",
   "execution_count": 12,
   "metadata": {},
   "outputs": [],
   "source": [
    "def playTheSound(intOfSound):\n",
    "    a =  {\n",
    "        '0':(teste.generateSin(941,1,time,fs)+teste.generateSin(0,1,time,fs)),\n",
    "        '1':(teste.generateSin(697,1,time,fs)+teste.generateSin(1209,1,time,fs)),\n",
    "        '2':(teste.generateSin(1336,1,time,fs)+teste.generateSin(697,1,time,fs)),\n",
    "        '3':(teste.generateSin(697,1,time,fs)+teste.generateSin(1477,1,time,fs)),\n",
    "        '4':(teste.generateSin(770,1,time,fs)+teste.generateSin(1209,1,time,fs)),\n",
    "        '5':(teste.generateSin(770,1,time,fs)+teste.generateSin(1336,1,time,fs)),\n",
    "        '6':(teste.generateSin(770,1,time,fs)+teste.generateSin(1477,1,time,fs)),\n",
    "        '7':(teste.generateSin(852,1,time,fs)+teste.generateSin(1029,1,time,fs)),\n",
    "        '8':(teste.generateSin(852,1,time,fs)+teste.generateSin(1336,1,time,fs)),\n",
    "        '9':(teste.generateSin(852,1,time,fs)+teste.generateSin(1477,1,time,fs)),\n",
    "        '#':(teste.generateSin(941,1,time,fs)+teste.generateSin(1477,1,time,fs)),\n",
    "        '*':(teste.generateSin(941,1,time,fs)+teste.generateSin(1209,1,time,fs))\n",
    "    }.get(intOfSound, None)\n",
    "    if a != None:\n",
    "        sd.play(a[1])\n",
    "        return True\n",
    "    else:\n",
    "        return False\n",
    "    \n",
    "def soundFinder():\n",
    "    number = 0\n",
    "    return number"
   ]
  },
  {
   "cell_type": "code",
   "execution_count": 13,
   "metadata": {},
   "outputs": [
    {
     "name": "stdout",
     "output_type": "stream",
     "text": [
      "2\n",
      "s\n"
     ]
    }
   ],
   "source": [
    "trues = True\n",
    "while trues:\n",
    "    numero = input()\n",
    "    a = playTheSound(numero)\n",
    "    if a == False:\n",
    "        trues = False\n",
    "    "
   ]
  },
  {
   "cell_type": "code",
   "execution_count": 14,
   "metadata": {},
   "outputs": [],
   "source": [
    "duration = 0.5  # seconds\n",
    "sd.default.samplerate = fs\n",
    "sd.default.channels = 2"
   ]
  },
  {
   "cell_type": "code",
   "execution_count": null,
   "metadata": {
    "scrolled": false
   },
   "outputs": [],
   "source": [
    "myrecording = sd.rec(int(duration * fs), samplerate=fs, channels=1)\n",
    "#myrecording = sd.rec(int(duration * fs),blocking=True)\n",
    "sd.wait()\n",
    "asdfg = teste.calcFFT(myrecording,fs)\n",
    "print(asdfg)"
   ]
  },
  {
   "cell_type": "code",
   "execution_count": null,
   "metadata": {},
   "outputs": [],
   "source": [
    "a = np.fft.fft(myrecording)\n",
    "plt.plot(a)"
   ]
  },
  {
   "cell_type": "code",
   "execution_count": null,
   "metadata": {},
   "outputs": [],
   "source": []
  }
 ],
 "metadata": {
  "kernelspec": {
   "display_name": "Python 3",
   "language": "python",
   "name": "python3"
  },
  "language_info": {
   "codemirror_mode": {
    "name": "ipython",
    "version": 3
   },
   "file_extension": ".py",
   "mimetype": "text/x-python",
   "name": "python",
   "nbconvert_exporter": "python",
   "pygments_lexer": "ipython3",
   "version": "3.7.0"
  }
 },
 "nbformat": 4,
 "nbformat_minor": 2
}
