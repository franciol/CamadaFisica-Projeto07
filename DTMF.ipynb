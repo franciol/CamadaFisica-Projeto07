{
 "cells": [
  {
   "cell_type": "code",
   "execution_count": 1,
   "metadata": {},
   "outputs": [],
   "source": [
    "import numpy as np\n",
    "import sounddevice as sd\n",
    "import signalTeste as st"
   ]
  },
  {
   "cell_type": "code",
   "execution_count": 2,
   "metadata": {},
   "outputs": [],
   "source": [
    "teste = st.signalMeu()\n",
    "time = 0.2\n",
    "fs = 44100\n",
    "sd.default.samplerate = fs"
   ]
  },
  {
   "cell_type": "code",
   "execution_count": 3,
   "metadata": {},
   "outputs": [],
   "source": [
    "#ZERO\n",
    "#freq, amplitude, time, fs\n",
    "x, sen1 = teste.generateSin(941,1,time,fs)\n",
    "x, sen2 = teste.generateSin(1336,1,time,fs)\n",
    "zero = sen1+sen2\n",
    "sd.play(zero)"
   ]
  },
  {
   "cell_type": "code",
   "execution_count": 4,
   "metadata": {},
   "outputs": [],
   "source": [
    "#UM\n",
    "x, sen1 = teste.generateSin(697,1,time,fs)\n",
    "x, sen2 = teste.generateSin(1209,1,time,fs)\n",
    "um = sen1+sen2\n",
    "sd.play(um)"
   ]
  },
  {
   "cell_type": "code",
   "execution_count": 5,
   "metadata": {},
   "outputs": [],
   "source": [
    "#DOIS\n",
    "x, sen1 = teste.generateSin(697,1,time,fs)\n",
    "x, sen2 = teste.generateSin(1336,1,time,fs)\n",
    "dois = sen1+sen2\n",
    "sd.play(dois)"
   ]
  },
  {
   "cell_type": "code",
   "execution_count": 6,
   "metadata": {},
   "outputs": [],
   "source": [
    "#TRES\n",
    "x, sen1 = teste.generateSin(697,1,time,fs)\n",
    "x, sen2 = teste.generateSin(1477,1,time,fs)\n",
    "tres = sen1+sen2\n",
    "sd.play(tres)"
   ]
  },
  {
   "cell_type": "code",
   "execution_count": 7,
   "metadata": {},
   "outputs": [],
   "source": [
    "#QUATRO\n",
    "x, sen1 = teste.generateSin(770,1,time,fs)\n",
    "x, sen2 = teste.generateSin(1209,1,time,fs)\n",
    "quatro = sen1+sen2\n",
    "sd.play(quatro)"
   ]
  },
  {
   "cell_type": "code",
   "execution_count": 8,
   "metadata": {},
   "outputs": [],
   "source": [
    "#CINCO\n",
    "x, sen1 = teste.generateSin(770,1,time,fs)\n",
    "x, sen2 = teste.generateSin(1336,1,time,fs)\n",
    "cinco = sen1+sen2\n",
    "sd.play(cinco)"
   ]
  },
  {
   "cell_type": "code",
   "execution_count": 9,
   "metadata": {},
   "outputs": [],
   "source": [
    "#SEIS\n",
    "x, sen1 = teste.generateSin(770,1,time,fs)\n",
    "x, sen2 = teste.generateSin(1477,1,time,fs)\n",
    "seis = sen1+sen2\n",
    "sd.play(seis)"
   ]
  },
  {
   "cell_type": "code",
   "execution_count": 10,
   "metadata": {},
   "outputs": [],
   "source": [
    "#SETE\n",
    "x, sen1 = teste.generateSin(852,1,time,fs)\n",
    "x, sen2 = teste.generateSin(1209,1,time,fs)\n",
    "sete = sen1+sen2\n",
    "sd.play(sete)"
   ]
  },
  {
   "cell_type": "code",
   "execution_count": 11,
   "metadata": {},
   "outputs": [],
   "source": [
    "#OITO\n",
    "x, sen1 = teste.generateSin(852,1,time,fs)\n",
    "x, sen2 = teste.generateSin(1336,1,time,fs)\n",
    "oito = sen1+sen2\n",
    "sd.play(oito)"
   ]
  },
  {
   "cell_type": "code",
   "execution_count": 12,
   "metadata": {},
   "outputs": [],
   "source": [
    "#NOVE\n",
    "x, sen1 = teste.generateSin(852,1,time,fs)\n",
    "x, sen2 = teste.generateSin(1477,1,time,fs)\n",
    "nove = sen1+sen2\n",
    "sd.play(nove)"
   ]
  },
  {
   "cell_type": "code",
   "execution_count": 15,
   "metadata": {},
   "outputs": [
    {
     "ename": "NameError",
     "evalue": "name 'argparse' is not defined",
     "output_type": "error",
     "traceback": [
      "\u001b[1;31m---------------------------------------------------------------------------\u001b[0m",
      "\u001b[1;31mNameError\u001b[0m                                 Traceback (most recent call last)",
      "\u001b[1;32m<ipython-input-15-3054e5be17a1>\u001b[0m in \u001b[0;36m<module>\u001b[1;34m()\u001b[0m\n\u001b[1;32m----> 1\u001b[1;33m \u001b[0mparser\u001b[0m \u001b[1;33m=\u001b[0m \u001b[0margparse\u001b[0m\u001b[1;33m.\u001b[0m\u001b[0mArgumentParser\u001b[0m\u001b[1;33m(\u001b[0m\u001b[0mdescription\u001b[0m\u001b[1;33m=\u001b[0m\u001b[0m__doc__\u001b[0m\u001b[1;33m)\u001b[0m\u001b[1;33m\u001b[0m\u001b[0m\n\u001b[0m\u001b[0;32m      2\u001b[0m parser.add_argument('-i', '--input-device', type=int_or_str,\n\u001b[0;32m      3\u001b[0m                     help='input device ID or substring')\n\u001b[0;32m      4\u001b[0m parser.add_argument('-o', '--output-device', type=int_or_str,\n\u001b[0;32m      5\u001b[0m                     help='output device ID or substring')\n",
      "\u001b[1;31mNameError\u001b[0m: name 'argparse' is not defined"
     ]
    }
   ],
   "source": [
    "parser = argparse.ArgumentParser(description=__doc__)\n",
    "parser.add_argument('-i', '--input-device', type=int_or_str,\n",
    "                    help='input device ID or substring')\n",
    "parser.add_argument('-o', '--output-device', type=int_or_str,\n",
    "                    help='output device ID or substring')"
   ]
  },
  {
   "cell_type": "code",
   "execution_count": null,
   "metadata": {},
   "outputs": [],
   "source": []
  }
 ],
 "metadata": {
  "kernelspec": {
   "display_name": "Python 3",
   "language": "python",
   "name": "python3"
  },
  "language_info": {
   "codemirror_mode": {
    "name": "ipython",
    "version": 3
   },
   "file_extension": ".py",
   "mimetype": "text/x-python",
   "name": "python",
   "nbconvert_exporter": "python",
   "pygments_lexer": "ipython3",
   "version": "3.6.5"
  }
 },
 "nbformat": 4,
 "nbformat_minor": 2
}
